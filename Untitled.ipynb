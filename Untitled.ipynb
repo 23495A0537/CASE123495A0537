
import matplotlib.pyplot as plt
import numpy as np
import pandas as pd
akki=pd.read_csv('energy.csv')
print(akki)
anil=akki[akki['State']=="Andhra"]
akash=akki[akki['State']=="Karnataka"]
#line chart andhra and karnataka
fig1,diag1=plt.subplots(2)
diag1[0].plot(anil['Date'],anil['Consumption'])
diag1[1].plot(akash['Date'],akash['Consumption'],color='red')

#bar chart telagana -tripura
maaz=akki[akki['State']=="Telengana"]
irfan=akki[akki['State']=="Tripura"]

fig1,diag1=plt.subplots(2)
diag1[0].bar(maaz['Date'],maaz['Consumption'])
diag1[1].bar(irfan['Date'],irfan['Consumption'],color='red')

#pie chart
state1='Delhi'
state2='Odisha'
state3='up'
state4='Punjab'
hari=[state1,state2]

balaji=akki[akki['State']==state1]['Consumption'].sum()
raji=akki[akki['State']==state1]['Consumption'].sum()
gopi=akki[akki['State']==state1]['Consumption'].sum()
siva=akki[akki['State']==state1]['Consumption'].sum()
pavan=[balaji,raji]

fig,diag=plt.subplots(2)
diag[0].pie(pavan,labels=hari,autopct='%1.1f%%')

hari=[state3,state4]
gopi=akki[akki['State']==state1]['Consumption'].sum()
siva=akki[akki['State']==state1]['Consumption'].sum()
pavan=[gopi,siva]
fig,diag=plt.subplots(2)
diag[0].pie(pavan,labels=hari,autopct='%1.1f%%')
